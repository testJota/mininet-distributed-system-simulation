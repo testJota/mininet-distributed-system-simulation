{
 "cells": [
  {
   "cell_type": "markdown",
   "id": "49bfc150",
   "metadata": {},
   "source": [
    "# Node Inputs"
   ]
  },
  {
   "cell_type": "code",
   "execution_count": 1,
   "id": "1699490e",
   "metadata": {},
   "outputs": [],
   "source": [
    "import json\n",
    "from subprocess import call\n",
    "import numpy as np\n",
    "import math\n",
    "\n",
    "# Important parameters\n",
    "\n",
    "# Total number of nodes\n",
    "n = [16,32,64,96,128,160,192,224,256]\n",
    "\n",
    "# Number of witnesses\n",
    "w = [int(min(4*np.log2(x),x)) for x in n]\n",
    "v = [int(min(5*np.log2(x),x)) for x in n]\n",
    "u = [x//2 + 1 for x in w]\n",
    "\n",
    "# Number of Samples\n",
    "s = [int(min(10*np.log2(x),x)) for x in n]\n",
    "th = [(2*x)//3 + 1 for x in s]"
   ]
  },
  {
   "cell_type": "code",
   "execution_count": 2,
   "id": "72b58a1d",
   "metadata": {},
   "outputs": [
    {
     "data": {
      "text/plain": [
       "[16, 32, 64, 96, 128, 160, 192, 224, 256]"
      ]
     },
     "execution_count": 2,
     "metadata": {},
     "output_type": "execute_result"
    }
   ],
   "source": [
    "n"
   ]
  },
  {
   "cell_type": "code",
   "execution_count": 3,
   "id": "57f5a45b",
   "metadata": {},
   "outputs": [
    {
     "data": {
      "text/plain": [
       "[16, 25, 30, 32, 35, 36, 37, 39, 40]"
      ]
     },
     "execution_count": 3,
     "metadata": {},
     "output_type": "execute_result"
    }
   ],
   "source": [
    "v"
   ]
  },
  {
   "cell_type": "code",
   "execution_count": 4,
   "id": "6eaf1b44",
   "metadata": {},
   "outputs": [
    {
     "data": {
      "text/plain": [
       "[16, 32, 60, 65, 70, 73, 75, 78, 80]"
      ]
     },
     "execution_count": 4,
     "metadata": {},
     "output_type": "execute_result"
    }
   ],
   "source": [
    "s"
   ]
  },
  {
   "cell_type": "code",
   "execution_count": 2,
   "id": "2e709b88",
   "metadata": {},
   "outputs": [],
   "source": [
    "# Brachas's inputs\n",
    "\n",
    "for i in range(len(n)):\n",
    "    f = math.ceil(n[i]/3) - 1\n",
    "    experiment = {\"protocol\": \"bracha\"}\n",
    "    experiment[\"parameters\"] = {\"n\": n[i], \"f\": f}\n",
    "    \n",
    "    # Serializing json\n",
    "    json_object = json.dumps(experiment, indent=4)\n",
    "\n",
    "    # Writing to sample.json\n",
    "    with open(\"Experiments/brachaInput\" + str(i) + \".json\", \"w\") as outfile:\n",
    "        outfile.write(json_object)"
   ]
  },
  {
   "cell_type": "code",
   "execution_count": 3,
   "id": "323a0a95",
   "metadata": {},
   "outputs": [],
   "source": [
    "# Reliable Accountability\n",
    "\n",
    "# Fixed Parameters\n",
    "wr = 10\n",
    "vr = 10\n",
    "recoveryTm = 60000000000\n",
    "idSize = 256\n",
    "numberBins = 16\n",
    "\n",
    "for i in range(len(n)):\n",
    "    f = math.ceil(n[i]/3) - 1\n",
    "    experiment = {\"protocol\": \"reliable_accountability\"}\n",
    "    experiment[\"parameters\"] = {\"n\": n[i], \"f\": f,\n",
    "                               \"w\": w[i], \"v\": v[i], \"wr\": 10, \"vr\": 10,\n",
    "                               \"u\": u[i], \"recovery_timeout\": recoveryTm,\n",
    "                               \"node_id_size\": idSize, \"number_of_bins\": numberBins}\n",
    "    \n",
    "    json_object = json.dumps(experiment, indent=4)\n",
    "\n",
    "    with open(\"Experiments/witnessInput\" + str(i) + \".json\", \"w\") as outfile:\n",
    "        outfile.write(json_object)"
   ]
  },
  {
   "cell_type": "code",
   "execution_count": 4,
   "id": "97ff1e5e",
   "metadata": {},
   "outputs": [],
   "source": [
    "# Scalable Broadcast\n",
    "\n",
    "for i in range(len(n)):\n",
    "    experiment = {\"protocol\": \"scalable\"}\n",
    "    experiment[\"parameters\"] = {\"n\": n[i], \"f\": 0,\n",
    "                               \"g_size\": s[i], \"e_size\": s[i], \"r_size\": s[i], \"d_size\": s[i],\n",
    "                               \"e_threshold\": th[i], \"r_threshold\": th[i], \"d_threshold\": th[i],\n",
    "                                \"clean_up_timeout\": 10000000000}\n",
    "    \n",
    "    json_object = json.dumps(experiment, indent=4)\n",
    "\n",
    "    with open(\"Experiments/scalableInput\" + str(i) + \".json\", \"w\") as outfile:\n",
    "        outfile.write(json_object)"
   ]
  },
  {
   "cell_type": "markdown",
   "id": "878651ec",
   "metadata": {},
   "source": [
    "# Simulation config files"
   ]
  },
  {
   "cell_type": "markdown",
   "id": "0315f632",
   "metadata": {},
   "source": [
    "### Changes bellow are mainly on the system's throughput\n",
    "### Transactions / second\n",
    "#targetThr = [int((2**(1/2))**(2+i)) for i in range(15)]\n",
    "targetThr = [2*(i+1) for i in range(64)]\n",
    "\n",
    "### Requests are evengly split among nodes according to the formula  \n",
    "\n",
    "###    thr = n * thr_n, where thr_n is a node's requests per second\n",
    "\n",
    "totalTime = 180000000000 # 180 seconds in nanoseconds\n",
    "baseDelay = 1000000000 # 1 second in nanoseconds\n",
    "for i in range(len(n)):\n",
    "    for th in targetThr:\n",
    "        # Fixed Parameters\n",
    "        config = {\"topology\": \"singleTopo.json\",\n",
    "                  \"hostBand\": 10, \"hostQueue\": 10000,\n",
    "                  \"hostDelay\": \"5ms\", \"hostLoss\": 1}\n",
    "        \n",
    "        config[\"testNodes\"] = {\"inTestNodes\": False, \"outTestNodes\": False,\n",
    "                               \"inTopoDelay\": \"25ms\", \"outTopoDelay\": \"25ms\"}\n",
    "        \n",
    "        trDelay = (n[i]/th) * baseDelay\n",
    "        totalTr = totalTime/trDelay\n",
    "        \n",
    "        config[\"simulationTime\"] = int(totalTime/baseDelay) + 120\n",
    "        config[\"numberTransactions\"] = int(totalTr)\n",
    "        config[\"transactionDelay\"] = int(trDelay)\n",
    "        \n",
    "        json_object = json.dumps(config, indent=4)\n",
    "\n",
    "        with open(\"Experiments/config\" + str(i) + \"_\" + str(th) + \".json\", \"w\") as outfile:\n",
    "            outfile.write(json_object)"
   ]
  },
  {
   "cell_type": "code",
   "execution_count": 6,
   "id": "98bac118",
   "metadata": {},
   "outputs": [],
   "source": [
    "## Update ##\n",
    "# Requests are now spread throughout 16 processes only\n",
    "\n",
    "#    thr = 16 * thr_n, where thr_n is a node's requests per second\n",
    "\n",
    "targetThr = [math.ceil(2**((i+6)/3)) for i in range(22)]\n",
    "\n",
    "totalTime = 150000000000 # 150 seconds in nanoseconds\n",
    "baseDelay = 1000000000 # 1 second in nanoseconds\n",
    "\n",
    "for th in targetThr:\n",
    "    # Fixed Parameters\n",
    "    config = {\"topology\": \"singleTopo.json\",\n",
    "              \"hostBand\": 100, \"hostQueue\": 10000000000,\n",
    "              \"hostDelay\": \"5ms\", \"hostLoss\": 0}\n",
    "\n",
    "    config[\"testNodes\"] = {\"inTestNodes\": False, \"outTestNodes\": False,\n",
    "                           \"inTopoDelay\": \"25ms\", \"outTopoDelay\": \"25ms\"}\n",
    "\n",
    "    trDelay = (16/th) * baseDelay\n",
    "    totalTr = totalTime/trDelay\n",
    "\n",
    "    config[\"simulationTime\"] = int(totalTime/baseDelay) + 150\n",
    "    config[\"numberTransactions\"] = int(totalTr)\n",
    "    config[\"transactionDelay\"] = int(trDelay)\n",
    "\n",
    "    json_object = json.dumps(config, indent=4)\n",
    "\n",
    "    with open(\"Experiments/config\" + \"16\" + \"_\" + str(th) + \".json\", \"w\") as outfile:\n",
    "        outfile.write(json_object)"
   ]
  },
  {
   "cell_type": "markdown",
   "id": "30fae22f",
   "metadata": {},
   "source": [
    "# Stress Test"
   ]
  },
  {
   "cell_type": "code",
   "execution_count": 9,
   "id": "85091bf0",
   "metadata": {},
   "outputs": [],
   "source": [
    "# Having numerous tests with the same configuration\n",
    "\n",
    "for i in range(5):\n",
    "    \n",
    "        # Fixed Parameters\n",
    "        config = {\"topology\": \"singleTopo.json\",\n",
    "                  \"hostBand\": 10, \"hostQueue\": 10000,\n",
    "                  \"hostDelay\": \"5ms\", \"hostLoss\": 1}\n",
    "\n",
    "        config[\"testNodes\"] = {\"inTestNodes\": False, \"outTestNodes\": False,\n",
    "                               \"inTopoDelay\": \"25ms\", \"outTopoDelay\": \"25ms\"}\n",
    "\n",
    "\n",
    "        config[\"simulationTime\"] = 250\n",
    "        config[\"numberTransactions\"] = -1\n",
    "        config[\"transactionDelay\"] = 180000000000\n",
    "\n",
    "        json_object = json.dumps(config, indent=4)\n",
    "\n",
    "        with open(\"Experiments/stress\" + str(i) + \".json\", \"w\") as outfile:\n",
    "            outfile.write(json_object)"
   ]
  },
  {
   "cell_type": "markdown",
   "id": "3ce3ff6b",
   "metadata": {},
   "source": [
    "# Best case test"
   ]
  },
  {
   "cell_type": "code",
   "execution_count": 8,
   "id": "a45ae2bc",
   "metadata": {},
   "outputs": [],
   "source": [
    "for i in range(5):\n",
    "    # Fixed Parameters\n",
    "        config = {\"topology\": \"singleTopo.json\",\n",
    "                  \"hostBand\": 100, \"hostQueue\": 10000,\n",
    "                  \"hostDelay\": \"100ms\", \"hostLoss\": 1}\n",
    "\n",
    "        config[\"testNodes\"] = {\"inTestNodes\": False, \"outTestNodes\": False,\n",
    "                               \"inTopoDelay\": \"25ms\", \"outTopoDelay\": \"25ms\"}\n",
    "\n",
    "\n",
    "        config[\"simulationTime\"] = 250\n",
    "        config[\"numberTransactions\"] = -2\n",
    "        config[\"transactionDelay\"] = 180000000000\n",
    "\n",
    "        json_object = json.dumps(config, indent=4)\n",
    "\n",
    "        with open(\"Experiments/best\" + str(i) + \".json\", \"w\") as outfile:\n",
    "            outfile.write(json_object)"
   ]
  },
  {
   "cell_type": "code",
   "execution_count": null,
   "id": "140dfd95",
   "metadata": {},
   "outputs": [],
   "source": []
  }
 ],
 "metadata": {
  "kernelspec": {
   "display_name": "Python 3 (ipykernel)",
   "language": "python",
   "name": "python3"
  },
  "language_info": {
   "codemirror_mode": {
    "name": "ipython",
    "version": 3
   },
   "file_extension": ".py",
   "mimetype": "text/x-python",
   "name": "python",
   "nbconvert_exporter": "python",
   "pygments_lexer": "ipython3",
   "version": "3.8.10"
  }
 },
 "nbformat": 4,
 "nbformat_minor": 5
}

{
 "cells": [
  {
   "cell_type": "markdown",
   "id": "49bfc150",
   "metadata": {},
   "source": [
    "# Node Inputs"
   ]
  },
  {
   "cell_type": "code",
   "execution_count": 1,
   "id": "1699490e",
   "metadata": {},
   "outputs": [],
   "source": [
    "import json\n",
    "from subprocess import call\n",
    "import numpy as np\n",
    "\n",
    "# Important parameters\n",
    "\n",
    "# Total number of nodes\n",
    "n = [4,8,16,32,64,128,256,512,1024]\n",
    "\n",
    "# Number of witnesses\n",
    "w = [int(min(10*np.log2(x),x)) for x in n]\n",
    "v = [int(min(12.5*np.log2(x),x)) for x in n]\n",
    "u = [x//2 + 1 for x in w]\n",
    "\n",
    "# Number of Samples\n",
    "s = [int(min(10*np.log2(x),x)) for x in n]\n",
    "th = [(2*x)//3 + 1 for x in s]"
   ]
  },
  {
   "cell_type": "code",
   "execution_count": 2,
   "id": "2e709b88",
   "metadata": {},
   "outputs": [],
   "source": [
    "# Brachas's inputs\n",
    "\n",
    "for i in range(len(n)):\n",
    "    experiment = {\"protocol\": \"bracha\"}\n",
    "    experiment[\"parameters\"] = {\"n\": n[i], \"f\": 0}\n",
    "    \n",
    "    # Serializing json\n",
    "    json_object = json.dumps(experiment, indent=4)\n",
    "\n",
    "    # Writing to sample.json\n",
    "    with open(\"Experiments/brachaInput\" + str(i) + \".json\", \"w\") as outfile:\n",
    "        outfile.write(json_object)"
   ]
  },
  {
   "cell_type": "code",
   "execution_count": 3,
   "id": "323a0a95",
   "metadata": {},
   "outputs": [],
   "source": [
    "# Reliable Accountability\n",
    "\n",
    "# Fixed Parameters\n",
    "wr = 10\n",
    "vr = 10\n",
    "recoveryTm = 30000000000\n",
    "idSize = 256\n",
    "numberBins = 16\n",
    "\n",
    "for i in range(len(n)):\n",
    "    experiment = {\"protocol\": \"reliable_accountability\"}\n",
    "    experiment[\"parameters\"] = {\"n\": n[i], \"f\": 0,\n",
    "                               \"w\": w[i], \"v\": v[i], \"wr\": 10, \"vr\": 10,\n",
    "                               \"u\": u[i], \"recovery_timeout\": recoveryTm,\n",
    "                               \"node_id_size\": idSize, \"numberBins\": numberBins}\n",
    "    \n",
    "    json_object = json.dumps(experiment, indent=4)\n",
    "\n",
    "    with open(\"Experiments/witnessInput\" + str(i) + \".json\", \"w\") as outfile:\n",
    "        outfile.write(json_object)"
   ]
  },
  {
   "cell_type": "code",
   "execution_count": 4,
   "id": "97ff1e5e",
   "metadata": {},
   "outputs": [],
   "source": [
    "# Scalable Broadcast\n",
    "\n",
    "for i in range(len(n)):\n",
    "    experiment = {\"protocol\": \"scalable\"}\n",
    "    experiment[\"parameters\"] = {\"n\": n[i], \"f\": 0,\n",
    "                               \"g_size\": s[i], \"e_size\": s[i], \"r_size\": s[i], \"d_size\": s[i],\n",
    "                               \"e_threshold\": th[i], \"r_threshold\": th[i], \"d_threshold\": th[i]}\n",
    "    \n",
    "    json_object = json.dumps(experiment, indent=4)\n",
    "\n",
    "    with open(\"Experiments/scalableInput\" + str(i) + \".json\", \"w\") as outfile:\n",
    "        outfile.write(json_object)"
   ]
  },
  {
   "cell_type": "markdown",
   "id": "878651ec",
   "metadata": {},
   "source": [
    "# Simulation config files"
   ]
  },
  {
   "cell_type": "code",
   "execution_count": 5,
   "id": "8dfd1f2e",
   "metadata": {},
   "outputs": [],
   "source": [
    "# Changes bellow are mainly on the system's throughput\n",
    "# Transactions / second\n",
    "targetThr = [2**(4+i) for i in range(10)]\n",
    "\n",
    "# Requests are evengly split among nodes according to the formula  \n",
    "\n",
    "#    thr = n * thr_n, where thr_n is a node's requests per second\n",
    "\n",
    "totalTime = 120000000000 # 120 seconds in nanoseconds\n",
    "baseDelay = 1000000000 # 1 second in nanoseconds\n",
    "for i in range(len(n)):\n",
    "    for th in targetThr:\n",
    "        # Fixed Parameters\n",
    "        config = {\"topology\": \"singleTopo.json\",\n",
    "                  \"hostBand\": 10, \"hostQueue\": 10000,\n",
    "                  \"hostDelay\": \"100ms\", \"hostLoss\": .1}\n",
    "        \n",
    "        config[\"testNodes\"] = {\"inTestNodes\": False, \"outTestNodes\": True,\n",
    "                               \"inTopoDelay\": \"25ms\", \"outTopoDelay\": \"25ms\"}\n",
    "        \n",
    "        trDelay = (n[i]/th) * baseDelay\n",
    "        totalTr = totalTime/trDelay\n",
    "        \n",
    "        config[\"simulationTime\"] = int(totalTime/baseDelay) + 60\n",
    "        config[\"numberTransactions\"] = int(totalTr)\n",
    "        config[\"transactionDelay\"] = int(trDelay)\n",
    "        \n",
    "        json_object = json.dumps(config, indent=4)\n",
    "\n",
    "        with open(\"Experiments/config\" + str(i) + \"_\" + str(th) + \".json\", \"w\") as outfile:\n",
    "            outfile.write(json_object)"
   ]
  },
  {
   "cell_type": "code",
   "execution_count": null,
   "id": "83e3b4fa",
   "metadata": {},
   "outputs": [],
   "source": []
  }
 ],
 "metadata": {
  "kernelspec": {
   "display_name": "Python 3 (ipykernel)",
   "language": "python",
   "name": "python3"
  },
  "language_info": {
   "codemirror_mode": {
    "name": "ipython",
    "version": 3
   },
   "file_extension": ".py",
   "mimetype": "text/x-python",
   "name": "python",
   "nbconvert_exporter": "python",
   "pygments_lexer": "ipython3",
   "version": "3.9.2"
  }
 },
 "nbformat": 4,
 "nbformat_minor": 5
}

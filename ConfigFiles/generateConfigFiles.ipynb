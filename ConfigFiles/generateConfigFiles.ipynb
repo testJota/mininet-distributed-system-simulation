{
 "cells": [
  {
   "cell_type": "markdown",
   "id": "49bfc150",
   "metadata": {},
   "source": [
    "# Node Inputs"
   ]
  },
  {
   "cell_type": "code",
   "execution_count": 37,
   "id": "1699490e",
   "metadata": {},
   "outputs": [],
   "source": [
    "import json\n",
    "from subprocess import call\n",
    "import numpy as np\n",
    "\n",
    "# Important parameters\n",
    "\n",
    "# Total number of nodes\n",
    "n = [4,8,16,32,64,100,256]\n",
    "\n",
    "# Number of witnesses\n",
    "w = [int(min(3*np.log2(x),x)) for x in n]\n",
    "v = [int(min(4*np.log2(x),x)) for x in n]\n",
    "u = [x//2 + 1 for x in w]\n",
    "\n",
    "# Number of Samples\n",
    "s = [int(min(4*np.log2(x),x)) for x in n]\n",
    "th = [(2*x)//3 + 1 for x in s]"
   ]
  },
  {
   "cell_type": "code",
   "execution_count": 38,
   "id": "2e709b88",
   "metadata": {},
   "outputs": [],
   "source": [
    "# Brachas's inputs\n",
    "\n",
    "for i in range(len(n)):\n",
    "    if n[i]%3 == 0:\n",
    "        f = n[i]//3 - 1\n",
    "    else:\n",
    "        f = n[i]//3\n",
    "    experiment = {\"protocol\": \"bracha\"}\n",
    "    experiment[\"parameters\"] = {\"n\": n[i], \"f\": f}\n",
    "    \n",
    "    # Serializing json\n",
    "    json_object = json.dumps(experiment, indent=4)\n",
    "\n",
    "    # Writing to sample.json\n",
    "    with open(\"Experiments/brachaInput\" + str(i) + \".json\", \"w\") as outfile:\n",
    "        outfile.write(json_object)"
   ]
  },
  {
   "cell_type": "code",
   "execution_count": 39,
   "id": "323a0a95",
   "metadata": {},
   "outputs": [],
   "source": [
    "# Reliable Accountability\n",
    "\n",
    "# Fixed Parameters\n",
    "wr = 10\n",
    "vr = 10\n",
    "recoveryTm = 60000000000\n",
    "idSize = 256\n",
    "numberBins = 16\n",
    "\n",
    "for i in range(len(n)):\n",
    "    experiment = {\"protocol\": \"reliable_accountability\"}\n",
    "    experiment[\"parameters\"] = {\"n\": n[i], \"f\": 0,\n",
    "                               \"w\": w[i], \"v\": v[i], \"wr\": 10, \"vr\": 10,\n",
    "                               \"u\": u[i], \"recovery_timeout\": recoveryTm,\n",
    "                               \"node_id_size\": idSize, \"number_of_bins\": numberBins}\n",
    "    \n",
    "    json_object = json.dumps(experiment, indent=4)\n",
    "\n",
    "    with open(\"Experiments/witnessInput\" + str(i) + \".json\", \"w\") as outfile:\n",
    "        outfile.write(json_object)"
   ]
  },
  {
   "cell_type": "code",
   "execution_count": 40,
   "id": "97ff1e5e",
   "metadata": {},
   "outputs": [],
   "source": [
    "# Scalable Broadcast\n",
    "\n",
    "for i in range(len(n)):\n",
    "    experiment = {\"protocol\": \"scalable\"}\n",
    "    experiment[\"parameters\"] = {\"n\": n[i], \"f\": 0,\n",
    "                               \"g_size\": s[i], \"e_size\": s[i], \"r_size\": s[i], \"d_size\": s[i],\n",
    "                               \"e_threshold\": th[i], \"r_threshold\": th[i], \"d_threshold\": th[i],\n",
    "                                \"clean_up_timeout\": 10000000000}\n",
    "    \n",
    "    json_object = json.dumps(experiment, indent=4)\n",
    "\n",
    "    with open(\"Experiments/scalableInput\" + str(i) + \".json\", \"w\") as outfile:\n",
    "        outfile.write(json_object)"
   ]
  },
  {
   "cell_type": "markdown",
   "id": "878651ec",
   "metadata": {},
   "source": [
    "# Simulation config files"
   ]
  },
  {
   "cell_type": "code",
   "execution_count": 26,
   "id": "88d9aa0d",
   "metadata": {},
   "outputs": [
    {
     "data": {
      "text/plain": [
       "4"
      ]
     },
     "execution_count": 26,
     "metadata": {},
     "output_type": "execute_result"
    }
   ],
   "source": [
    "128//32"
   ]
  },
  {
   "cell_type": "code",
   "execution_count": 31,
   "id": "9fd317f8",
   "metadata": {},
   "outputs": [
    {
     "data": {
      "text/plain": [
       "32"
      ]
     },
     "execution_count": 31,
     "metadata": {},
     "output_type": "execute_result"
    }
   ],
   "source": [
    "n = 128\n",
    "step = (128//n)*4\n",
    "step*8"
   ]
  },
  {
   "cell_type": "code",
   "execution_count": 33,
   "id": "fcd70066",
   "metadata": {},
   "outputs": [],
   "source": [
    "dictFiles = {32:3, 64:4, 128:5}"
   ]
  },
  {
   "cell_type": "code",
   "execution_count": 34,
   "id": "01fd89ca",
   "metadata": {},
   "outputs": [
    {
     "data": {
      "text/plain": [
       "{32: 3, 64: 4, 128: 5}"
      ]
     },
     "execution_count": 34,
     "metadata": {},
     "output_type": "execute_result"
    }
   ],
   "source": [
    "dictFiles"
   ]
  },
  {
   "cell_type": "code",
   "execution_count": 22,
   "id": "002665e4",
   "metadata": {},
   "outputs": [
    {
     "data": {
      "text/plain": [
       "64"
      ]
     },
     "execution_count": 22,
     "metadata": {},
     "output_type": "execute_result"
    }
   ],
   "source": [
    "len([2*(i+1) for i in range(64)])"
   ]
  },
  {
   "cell_type": "code",
   "execution_count": 20,
   "id": "8dfd1f2e",
   "metadata": {},
   "outputs": [],
   "source": [
    "# Changes bellow are mainly on the system's throughput\n",
    "# Transactions / second\n",
    "#targetThr = [int((2**(1/2))**(2+i)) for i in range(15)]\n",
    "targetThr = [2*(i+1) for i in range(64)]\n",
    "\n",
    "# Requests are evengly split among nodes according to the formula  \n",
    "\n",
    "#    thr = n * thr_n, where thr_n is a node's requests per second\n",
    "\n",
    "totalTime = 180000000000 # 180 seconds in nanoseconds\n",
    "baseDelay = 1000000000 # 1 second in nanoseconds\n",
    "for i in range(len(n)):\n",
    "    for th in targetThr:\n",
    "        # Fixed Parameters\n",
    "        config = {\"topology\": \"singleTopo.json\",\n",
    "                  \"hostBand\": 10, \"hostQueue\": 10000,\n",
    "                  \"hostDelay\": \"5ms\", \"hostLoss\": 1}\n",
    "        \n",
    "        config[\"testNodes\"] = {\"inTestNodes\": False, \"outTestNodes\": False,\n",
    "                               \"inTopoDelay\": \"25ms\", \"outTopoDelay\": \"25ms\"}\n",
    "        \n",
    "        trDelay = (n[i]/th) * baseDelay\n",
    "        totalTr = totalTime/trDelay\n",
    "        \n",
    "        config[\"simulationTime\"] = int(totalTime/baseDelay) + 120\n",
    "        config[\"numberTransactions\"] = int(totalTr)\n",
    "        config[\"transactionDelay\"] = int(trDelay)\n",
    "        \n",
    "        json_object = json.dumps(config, indent=4)\n",
    "\n",
    "        with open(\"Experiments/config\" + str(i) + \"_\" + str(th) + \".json\", \"w\") as outfile:\n",
    "            outfile.write(json_object)"
   ]
  },
  {
   "cell_type": "markdown",
   "id": "30fae22f",
   "metadata": {},
   "source": [
    "# Stress Test"
   ]
  },
  {
   "cell_type": "code",
   "execution_count": 35,
   "id": "85091bf0",
   "metadata": {},
   "outputs": [],
   "source": [
    "for i in range(3):\n",
    "    \n",
    "        # Fixed Parameters\n",
    "        config = {\"topology\": \"singleTopo.json\",\n",
    "                  \"hostBand\": 2**(i+1), \"hostQueue\": 10000,\n",
    "                  \"hostDelay\": \"0ms\", \"hostLoss\": 1}\n",
    "\n",
    "        config[\"testNodes\"] = {\"inTestNodes\": False, \"outTestNodes\": False,\n",
    "                               \"inTopoDelay\": \"25ms\", \"outTopoDelay\": \"25ms\"}\n",
    "\n",
    "\n",
    "        config[\"simulationTime\"] = 250\n",
    "        config[\"numberTransactions\"] = -1\n",
    "        config[\"transactionDelay\"] = 180000000000\n",
    "\n",
    "        json_object = json.dumps(config, indent=4)\n",
    "\n",
    "        with open(\"Experiments/stress\" + str(i) + \".json\", \"w\") as outfile:\n",
    "            outfile.write(json_object)"
   ]
  },
  {
   "cell_type": "code",
   "execution_count": null,
   "id": "338e5725",
   "metadata": {},
   "outputs": [],
   "source": []
  }
 ],
 "metadata": {
  "kernelspec": {
   "display_name": "Python 3 (ipykernel)",
   "language": "python",
   "name": "python3"
  },
  "language_info": {
   "codemirror_mode": {
    "name": "ipython",
    "version": 3
   },
   "file_extension": ".py",
   "mimetype": "text/x-python",
   "name": "python",
   "nbconvert_exporter": "python",
   "pygments_lexer": "ipython3",
   "version": "3.9.2"
  }
 },
 "nbformat": 4,
 "nbformat_minor": 5
}
